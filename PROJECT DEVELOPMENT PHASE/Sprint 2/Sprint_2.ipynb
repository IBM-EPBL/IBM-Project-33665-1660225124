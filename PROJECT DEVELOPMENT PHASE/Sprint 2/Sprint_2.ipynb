{
  "nbformat": 4,
  "nbformat_minor": 0,
  "metadata": {
    "colab": {
      "provenance": []
    },
    "kernelspec": {
      "name": "python3",
      "display_name": "Python 3"
    },
    "language_info": {
      "name": "python"
    }
  },
  "cells": [
    {
      "cell_type": "markdown",
      "source": [
        "**Importing the libraries**"
      ],
      "metadata": {
        "id": "3jK6mwFl4S3V"
      }
    },
    {
      "cell_type": "code",
      "execution_count": null,
      "metadata": {
        "id": "WVxUu8vo4GxI"
      },
      "outputs": [],
      "source": [
        "import pandas as pd\n",
        "import numpy as np\n",
        "import seaborn as sns\n",
        "import matplotlib.pyplot as plt"
      ]
    },
    {
      "cell_type": "markdown",
      "source": [
        "**Reading the dataset**"
      ],
      "metadata": {
        "id": "qoRJuXUS4kTq"
      }
    },
    {
      "cell_type": "code",
      "source": [
        "train=pd.read_csv(\"train.csv\")\n",
        "test=pd.read_csv(\"test.csv\")"
      ],
      "metadata": {
        "id": "MNYsMmbr4mvY"
      },
      "execution_count": null,
      "outputs": []
    },
    {
      "cell_type": "markdown",
      "source": [
        "**Exploratory Data Analysis**"
      ],
      "metadata": {
        "id": "H_z3tZ6b55Dp"
      }
    },
    {
      "cell_type": "code",
      "source": [
        "train.head()"
      ],
      "metadata": {
        "colab": {
          "base_uri": "https://localhost:8080/",
          "height": 206
        },
        "id": "-e_mGEQV56mQ",
        "outputId": "133c131d-5a1d-49a0-9a44-47929df8c761"
      },
      "execution_count": null,
      "outputs": [
        {
          "output_type": "execute_result",
          "data": {
            "text/plain": [
              "        id  week  center_id  meal_id  checkout_price  base_price  \\\n",
              "0  1379560   1.0       55.0   1885.0          136.83      152.29   \n",
              "1  1466964   1.0       55.0   1993.0          136.83      135.83   \n",
              "2  1346989   1.0       55.0   2539.0          134.86      135.86   \n",
              "3  1338232   1.0       55.0   2139.0          339.50      437.53   \n",
              "4  1448490   1.0       55.0   2631.0          243.50      242.50   \n",
              "\n",
              "   emailer_for_promotion  homepage_featured  num_orders  \n",
              "0                    0.0                0.0       177.0  \n",
              "1                    0.0                0.0       270.0  \n",
              "2                    0.0                0.0       189.0  \n",
              "3                    0.0                0.0        54.0  \n",
              "4                    0.0                0.0        40.0  "
            ],
            "text/html": [
              "\n",
              "  <div id=\"df-e30e2678-ba35-4372-8022-aa78ed25e234\">\n",
              "    <div class=\"colab-df-container\">\n",
              "      <div>\n",
              "<style scoped>\n",
              "    .dataframe tbody tr th:only-of-type {\n",
              "        vertical-align: middle;\n",
              "    }\n",
              "\n",
              "    .dataframe tbody tr th {\n",
              "        vertical-align: top;\n",
              "    }\n",
              "\n",
              "    .dataframe thead th {\n",
              "        text-align: right;\n",
              "    }\n",
              "</style>\n",
              "<table border=\"1\" class=\"dataframe\">\n",
              "  <thead>\n",
              "    <tr style=\"text-align: right;\">\n",
              "      <th></th>\n",
              "      <th>id</th>\n",
              "      <th>week</th>\n",
              "      <th>center_id</th>\n",
              "      <th>meal_id</th>\n",
              "      <th>checkout_price</th>\n",
              "      <th>base_price</th>\n",
              "      <th>emailer_for_promotion</th>\n",
              "      <th>homepage_featured</th>\n",
              "      <th>num_orders</th>\n",
              "    </tr>\n",
              "  </thead>\n",
              "  <tbody>\n",
              "    <tr>\n",
              "      <th>0</th>\n",
              "      <td>1379560</td>\n",
              "      <td>1.0</td>\n",
              "      <td>55.0</td>\n",
              "      <td>1885.0</td>\n",
              "      <td>136.83</td>\n",
              "      <td>152.29</td>\n",
              "      <td>0.0</td>\n",
              "      <td>0.0</td>\n",
              "      <td>177.0</td>\n",
              "    </tr>\n",
              "    <tr>\n",
              "      <th>1</th>\n",
              "      <td>1466964</td>\n",
              "      <td>1.0</td>\n",
              "      <td>55.0</td>\n",
              "      <td>1993.0</td>\n",
              "      <td>136.83</td>\n",
              "      <td>135.83</td>\n",
              "      <td>0.0</td>\n",
              "      <td>0.0</td>\n",
              "      <td>270.0</td>\n",
              "    </tr>\n",
              "    <tr>\n",
              "      <th>2</th>\n",
              "      <td>1346989</td>\n",
              "      <td>1.0</td>\n",
              "      <td>55.0</td>\n",
              "      <td>2539.0</td>\n",
              "      <td>134.86</td>\n",
              "      <td>135.86</td>\n",
              "      <td>0.0</td>\n",
              "      <td>0.0</td>\n",
              "      <td>189.0</td>\n",
              "    </tr>\n",
              "    <tr>\n",
              "      <th>3</th>\n",
              "      <td>1338232</td>\n",
              "      <td>1.0</td>\n",
              "      <td>55.0</td>\n",
              "      <td>2139.0</td>\n",
              "      <td>339.50</td>\n",
              "      <td>437.53</td>\n",
              "      <td>0.0</td>\n",
              "      <td>0.0</td>\n",
              "      <td>54.0</td>\n",
              "    </tr>\n",
              "    <tr>\n",
              "      <th>4</th>\n",
              "      <td>1448490</td>\n",
              "      <td>1.0</td>\n",
              "      <td>55.0</td>\n",
              "      <td>2631.0</td>\n",
              "      <td>243.50</td>\n",
              "      <td>242.50</td>\n",
              "      <td>0.0</td>\n",
              "      <td>0.0</td>\n",
              "      <td>40.0</td>\n",
              "    </tr>\n",
              "  </tbody>\n",
              "</table>\n",
              "</div>\n",
              "      <button class=\"colab-df-convert\" onclick=\"convertToInteractive('df-e30e2678-ba35-4372-8022-aa78ed25e234')\"\n",
              "              title=\"Convert this dataframe to an interactive table.\"\n",
              "              style=\"display:none;\">\n",
              "        \n",
              "  <svg xmlns=\"http://www.w3.org/2000/svg\" height=\"24px\"viewBox=\"0 0 24 24\"\n",
              "       width=\"24px\">\n",
              "    <path d=\"M0 0h24v24H0V0z\" fill=\"none\"/>\n",
              "    <path d=\"M18.56 5.44l.94 2.06.94-2.06 2.06-.94-2.06-.94-.94-2.06-.94 2.06-2.06.94zm-11 1L8.5 8.5l.94-2.06 2.06-.94-2.06-.94L8.5 2.5l-.94 2.06-2.06.94zm10 10l.94 2.06.94-2.06 2.06-.94-2.06-.94-.94-2.06-.94 2.06-2.06.94z\"/><path d=\"M17.41 7.96l-1.37-1.37c-.4-.4-.92-.59-1.43-.59-.52 0-1.04.2-1.43.59L10.3 9.45l-7.72 7.72c-.78.78-.78 2.05 0 2.83L4 21.41c.39.39.9.59 1.41.59.51 0 1.02-.2 1.41-.59l7.78-7.78 2.81-2.81c.8-.78.8-2.07 0-2.86zM5.41 20L4 18.59l7.72-7.72 1.47 1.35L5.41 20z\"/>\n",
              "  </svg>\n",
              "      </button>\n",
              "      \n",
              "  <style>\n",
              "    .colab-df-container {\n",
              "      display:flex;\n",
              "      flex-wrap:wrap;\n",
              "      gap: 12px;\n",
              "    }\n",
              "\n",
              "    .colab-df-convert {\n",
              "      background-color: #E8F0FE;\n",
              "      border: none;\n",
              "      border-radius: 50%;\n",
              "      cursor: pointer;\n",
              "      display: none;\n",
              "      fill: #1967D2;\n",
              "      height: 32px;\n",
              "      padding: 0 0 0 0;\n",
              "      width: 32px;\n",
              "    }\n",
              "\n",
              "    .colab-df-convert:hover {\n",
              "      background-color: #E2EBFA;\n",
              "      box-shadow: 0px 1px 2px rgba(60, 64, 67, 0.3), 0px 1px 3px 1px rgba(60, 64, 67, 0.15);\n",
              "      fill: #174EA6;\n",
              "    }\n",
              "\n",
              "    [theme=dark] .colab-df-convert {\n",
              "      background-color: #3B4455;\n",
              "      fill: #D2E3FC;\n",
              "    }\n",
              "\n",
              "    [theme=dark] .colab-df-convert:hover {\n",
              "      background-color: #434B5C;\n",
              "      box-shadow: 0px 1px 3px 1px rgba(0, 0, 0, 0.15);\n",
              "      filter: drop-shadow(0px 1px 2px rgba(0, 0, 0, 0.3));\n",
              "      fill: #FFFFFF;\n",
              "    }\n",
              "  </style>\n",
              "\n",
              "      <script>\n",
              "        const buttonEl =\n",
              "          document.querySelector('#df-e30e2678-ba35-4372-8022-aa78ed25e234 button.colab-df-convert');\n",
              "        buttonEl.style.display =\n",
              "          google.colab.kernel.accessAllowed ? 'block' : 'none';\n",
              "\n",
              "        async function convertToInteractive(key) {\n",
              "          const element = document.querySelector('#df-e30e2678-ba35-4372-8022-aa78ed25e234');\n",
              "          const dataTable =\n",
              "            await google.colab.kernel.invokeFunction('convertToInteractive',\n",
              "                                                     [key], {});\n",
              "          if (!dataTable) return;\n",
              "\n",
              "          const docLinkHtml = 'Like what you see? Visit the ' +\n",
              "            '<a target=\"_blank\" href=https://colab.research.google.com/notebooks/data_table.ipynb>data table notebook</a>'\n",
              "            + ' to learn more about interactive tables.';\n",
              "          element.innerHTML = '';\n",
              "          dataTable['output_type'] = 'display_data';\n",
              "          await google.colab.output.renderOutput(dataTable, element);\n",
              "          const docLink = document.createElement('div');\n",
              "          docLink.innerHTML = docLinkHtml;\n",
              "          element.appendChild(docLink);\n",
              "        }\n",
              "      </script>\n",
              "    </div>\n",
              "  </div>\n",
              "  "
            ]
          },
          "metadata": {},
          "execution_count": 3
        }
      ]
    },
    {
      "cell_type": "code",
      "source": [
        "test.head()"
      ],
      "metadata": {
        "colab": {
          "base_uri": "https://localhost:8080/",
          "height": 206
        },
        "id": "3-6v6Pkz5-j_",
        "outputId": "e52093a4-f20a-4494-ca62-bb34a4cdb925"
      },
      "execution_count": null,
      "outputs": [
        {
          "output_type": "execute_result",
          "data": {
            "text/plain": [
              "        id  week  center_id  meal_id  checkout_price  base_price  \\\n",
              "0  1028232   146         55     1885          158.11      159.11   \n",
              "1  1127204   146         55     1993          160.11      159.11   \n",
              "2  1212707   146         55     2539          157.14      159.14   \n",
              "3  1082698   146         55     2631          162.02      162.02   \n",
              "4  1400926   146         55     1248          163.93      163.93   \n",
              "\n",
              "   emailer_for_promotion  homepage_featured  \n",
              "0                      0                  0  \n",
              "1                      0                  0  \n",
              "2                      0                  0  \n",
              "3                      0                  0  \n",
              "4                      0                  0  "
            ],
            "text/html": [
              "\n",
              "  <div id=\"df-a8e3838e-821a-431e-b3b5-79aa4bd39986\">\n",
              "    <div class=\"colab-df-container\">\n",
              "      <div>\n",
              "<style scoped>\n",
              "    .dataframe tbody tr th:only-of-type {\n",
              "        vertical-align: middle;\n",
              "    }\n",
              "\n",
              "    .dataframe tbody tr th {\n",
              "        vertical-align: top;\n",
              "    }\n",
              "\n",
              "    .dataframe thead th {\n",
              "        text-align: right;\n",
              "    }\n",
              "</style>\n",
              "<table border=\"1\" class=\"dataframe\">\n",
              "  <thead>\n",
              "    <tr style=\"text-align: right;\">\n",
              "      <th></th>\n",
              "      <th>id</th>\n",
              "      <th>week</th>\n",
              "      <th>center_id</th>\n",
              "      <th>meal_id</th>\n",
              "      <th>checkout_price</th>\n",
              "      <th>base_price</th>\n",
              "      <th>emailer_for_promotion</th>\n",
              "      <th>homepage_featured</th>\n",
              "    </tr>\n",
              "  </thead>\n",
              "  <tbody>\n",
              "    <tr>\n",
              "      <th>0</th>\n",
              "      <td>1028232</td>\n",
              "      <td>146</td>\n",
              "      <td>55</td>\n",
              "      <td>1885</td>\n",
              "      <td>158.11</td>\n",
              "      <td>159.11</td>\n",
              "      <td>0</td>\n",
              "      <td>0</td>\n",
              "    </tr>\n",
              "    <tr>\n",
              "      <th>1</th>\n",
              "      <td>1127204</td>\n",
              "      <td>146</td>\n",
              "      <td>55</td>\n",
              "      <td>1993</td>\n",
              "      <td>160.11</td>\n",
              "      <td>159.11</td>\n",
              "      <td>0</td>\n",
              "      <td>0</td>\n",
              "    </tr>\n",
              "    <tr>\n",
              "      <th>2</th>\n",
              "      <td>1212707</td>\n",
              "      <td>146</td>\n",
              "      <td>55</td>\n",
              "      <td>2539</td>\n",
              "      <td>157.14</td>\n",
              "      <td>159.14</td>\n",
              "      <td>0</td>\n",
              "      <td>0</td>\n",
              "    </tr>\n",
              "    <tr>\n",
              "      <th>3</th>\n",
              "      <td>1082698</td>\n",
              "      <td>146</td>\n",
              "      <td>55</td>\n",
              "      <td>2631</td>\n",
              "      <td>162.02</td>\n",
              "      <td>162.02</td>\n",
              "      <td>0</td>\n",
              "      <td>0</td>\n",
              "    </tr>\n",
              "    <tr>\n",
              "      <th>4</th>\n",
              "      <td>1400926</td>\n",
              "      <td>146</td>\n",
              "      <td>55</td>\n",
              "      <td>1248</td>\n",
              "      <td>163.93</td>\n",
              "      <td>163.93</td>\n",
              "      <td>0</td>\n",
              "      <td>0</td>\n",
              "    </tr>\n",
              "  </tbody>\n",
              "</table>\n",
              "</div>\n",
              "      <button class=\"colab-df-convert\" onclick=\"convertToInteractive('df-a8e3838e-821a-431e-b3b5-79aa4bd39986')\"\n",
              "              title=\"Convert this dataframe to an interactive table.\"\n",
              "              style=\"display:none;\">\n",
              "        \n",
              "  <svg xmlns=\"http://www.w3.org/2000/svg\" height=\"24px\"viewBox=\"0 0 24 24\"\n",
              "       width=\"24px\">\n",
              "    <path d=\"M0 0h24v24H0V0z\" fill=\"none\"/>\n",
              "    <path d=\"M18.56 5.44l.94 2.06.94-2.06 2.06-.94-2.06-.94-.94-2.06-.94 2.06-2.06.94zm-11 1L8.5 8.5l.94-2.06 2.06-.94-2.06-.94L8.5 2.5l-.94 2.06-2.06.94zm10 10l.94 2.06.94-2.06 2.06-.94-2.06-.94-.94-2.06-.94 2.06-2.06.94z\"/><path d=\"M17.41 7.96l-1.37-1.37c-.4-.4-.92-.59-1.43-.59-.52 0-1.04.2-1.43.59L10.3 9.45l-7.72 7.72c-.78.78-.78 2.05 0 2.83L4 21.41c.39.39.9.59 1.41.59.51 0 1.02-.2 1.41-.59l7.78-7.78 2.81-2.81c.8-.78.8-2.07 0-2.86zM5.41 20L4 18.59l7.72-7.72 1.47 1.35L5.41 20z\"/>\n",
              "  </svg>\n",
              "      </button>\n",
              "      \n",
              "  <style>\n",
              "    .colab-df-container {\n",
              "      display:flex;\n",
              "      flex-wrap:wrap;\n",
              "      gap: 12px;\n",
              "    }\n",
              "\n",
              "    .colab-df-convert {\n",
              "      background-color: #E8F0FE;\n",
              "      border: none;\n",
              "      border-radius: 50%;\n",
              "      cursor: pointer;\n",
              "      display: none;\n",
              "      fill: #1967D2;\n",
              "      height: 32px;\n",
              "      padding: 0 0 0 0;\n",
              "      width: 32px;\n",
              "    }\n",
              "\n",
              "    .colab-df-convert:hover {\n",
              "      background-color: #E2EBFA;\n",
              "      box-shadow: 0px 1px 2px rgba(60, 64, 67, 0.3), 0px 1px 3px 1px rgba(60, 64, 67, 0.15);\n",
              "      fill: #174EA6;\n",
              "    }\n",
              "\n",
              "    [theme=dark] .colab-df-convert {\n",
              "      background-color: #3B4455;\n",
              "      fill: #D2E3FC;\n",
              "    }\n",
              "\n",
              "    [theme=dark] .colab-df-convert:hover {\n",
              "      background-color: #434B5C;\n",
              "      box-shadow: 0px 1px 3px 1px rgba(0, 0, 0, 0.15);\n",
              "      filter: drop-shadow(0px 1px 2px rgba(0, 0, 0, 0.3));\n",
              "      fill: #FFFFFF;\n",
              "    }\n",
              "  </style>\n",
              "\n",
              "      <script>\n",
              "        const buttonEl =\n",
              "          document.querySelector('#df-a8e3838e-821a-431e-b3b5-79aa4bd39986 button.colab-df-convert');\n",
              "        buttonEl.style.display =\n",
              "          google.colab.kernel.accessAllowed ? 'block' : 'none';\n",
              "\n",
              "        async function convertToInteractive(key) {\n",
              "          const element = document.querySelector('#df-a8e3838e-821a-431e-b3b5-79aa4bd39986');\n",
              "          const dataTable =\n",
              "            await google.colab.kernel.invokeFunction('convertToInteractive',\n",
              "                                                     [key], {});\n",
              "          if (!dataTable) return;\n",
              "\n",
              "          const docLinkHtml = 'Like what you see? Visit the ' +\n",
              "            '<a target=\"_blank\" href=https://colab.research.google.com/notebooks/data_table.ipynb>data table notebook</a>'\n",
              "            + ' to learn more about interactive tables.';\n",
              "          element.innerHTML = '';\n",
              "          dataTable['output_type'] = 'display_data';\n",
              "          await google.colab.output.renderOutput(dataTable, element);\n",
              "          const docLink = document.createElement('div');\n",
              "          docLink.innerHTML = docLinkHtml;\n",
              "          element.appendChild(docLink);\n",
              "        }\n",
              "      </script>\n",
              "    </div>\n",
              "  </div>\n",
              "  "
            ]
          },
          "metadata": {},
          "execution_count": 4
        }
      ]
    },
    {
      "cell_type": "code",
      "source": [
        "train.info()"
      ],
      "metadata": {
        "colab": {
          "base_uri": "https://localhost:8080/"
        },
        "id": "UjC14e8O6BX7",
        "outputId": "25e0f3da-cf0d-407e-b560-e2e8a61f57e2"
      },
      "execution_count": null,
      "outputs": [
        {
          "output_type": "stream",
          "name": "stdout",
          "text": [
            "<class 'pandas.core.frame.DataFrame'>\n",
            "RangeIndex: 52114 entries, 0 to 52113\n",
            "Data columns (total 9 columns):\n",
            " #   Column                 Non-Null Count  Dtype  \n",
            "---  ------                 --------------  -----  \n",
            " 0   id                     52114 non-null  int64  \n",
            " 1   week                   52113 non-null  float64\n",
            " 2   center_id              52113 non-null  float64\n",
            " 3   meal_id                52113 non-null  float64\n",
            " 4   checkout_price         52113 non-null  float64\n",
            " 5   base_price             52113 non-null  float64\n",
            " 6   emailer_for_promotion  52113 non-null  float64\n",
            " 7   homepage_featured      52113 non-null  float64\n",
            " 8   num_orders             52113 non-null  float64\n",
            "dtypes: float64(8), int64(1)\n",
            "memory usage: 3.6 MB\n"
          ]
        }
      ]
    },
    {
      "cell_type": "code",
      "source": [
        "train['num_orders'].describe()"
      ],
      "metadata": {
        "colab": {
          "base_uri": "https://localhost:8080/"
        },
        "id": "oeAZuBRk6EQT",
        "outputId": "c14588e2-eff7-4266-c3a9-7f071d6012a4"
      },
      "execution_count": null,
      "outputs": [
        {
          "output_type": "execute_result",
          "data": {
            "text/plain": [
              "count    52113.000000\n",
              "mean       273.423560\n",
              "std        498.589235\n",
              "min         13.000000\n",
              "25%         54.000000\n",
              "50%        136.000000\n",
              "75%        324.000000\n",
              "max      24299.000000\n",
              "Name: num_orders, dtype: float64"
            ]
          },
          "metadata": {},
          "execution_count": 6
        }
      ]
    },
    {
      "cell_type": "markdown",
      "source": [
        "**Checking for Null Values**"
      ],
      "metadata": {
        "id": "WofHK08-6HI0"
      }
    },
    {
      "cell_type": "code",
      "source": [
        "train.isnull().sum()"
      ],
      "metadata": {
        "colab": {
          "base_uri": "https://localhost:8080/"
        },
        "id": "X_0lmuoP6IrY",
        "outputId": "3f3f2997-fb0f-4b99-b5d6-0387e804ed12"
      },
      "execution_count": null,
      "outputs": [
        {
          "output_type": "execute_result",
          "data": {
            "text/plain": [
              "id                       0\n",
              "week                     1\n",
              "center_id                1\n",
              "meal_id                  1\n",
              "checkout_price           1\n",
              "base_price               1\n",
              "emailer_for_promotion    1\n",
              "homepage_featured        1\n",
              "num_orders               1\n",
              "dtype: int64"
            ]
          },
          "metadata": {},
          "execution_count": 7
        }
      ]
    },
    {
      "cell_type": "markdown",
      "source": [
        "**Reading and Merging .csv files**"
      ],
      "metadata": {
        "id": "BY2FqUKM6PWV"
      }
    },
    {
      "cell_type": "code",
      "source": [
        "meal_info = pd.read_csv(\"meal_info.csv\")\n",
        "center_info = pd.read_csv(\"fulfilment_center_info.csv\")"
      ],
      "metadata": {
        "id": "Kv3-pQLa6Qv8"
      },
      "execution_count": null,
      "outputs": []
    },
    {
      "cell_type": "code",
      "source": [
        "trainfinal = pd.merge(train, meal_info, on=\"meal_id\", how=\"outer\")\n",
        "trainfinal = pd.merge(trainfinal, center_info, on=\"center_id\", how=\"outer\")\n",
        "trainfinal.head()"
      ],
      "metadata": {
        "colab": {
          "base_uri": "https://localhost:8080/",
          "height": 270
        },
        "id": "yWtvz9Vw6kkq",
        "outputId": "455d6cdb-5c0c-41b5-b194-812ff3481f5b"
      },
      "execution_count": null,
      "outputs": [
        {
          "output_type": "execute_result",
          "data": {
            "text/plain": [
              "          id  week  center_id  meal_id  checkout_price  base_price  \\\n",
              "0  1379560.0   1.0       55.0   1885.0          136.83      152.29   \n",
              "1  1018704.0   2.0       55.0   1885.0          135.83      152.29   \n",
              "2  1196273.0   3.0       55.0   1885.0          132.92      133.92   \n",
              "3  1116527.0   4.0       55.0   1885.0          135.86      134.86   \n",
              "4  1343872.0   5.0       55.0   1885.0          146.50      147.50   \n",
              "\n",
              "   emailer_for_promotion  homepage_featured  num_orders   category cuisine  \\\n",
              "0                    0.0                0.0       177.0  Beverages    Thai   \n",
              "1                    0.0                0.0       323.0  Beverages    Thai   \n",
              "2                    0.0                0.0        96.0  Beverages    Thai   \n",
              "3                    0.0                0.0       163.0  Beverages    Thai   \n",
              "4                    0.0                0.0       215.0  Beverages    Thai   \n",
              "\n",
              "   city_code  region_code center_type  op_area  \n",
              "0      647.0         56.0      TYPE_C      2.0  \n",
              "1      647.0         56.0      TYPE_C      2.0  \n",
              "2      647.0         56.0      TYPE_C      2.0  \n",
              "3      647.0         56.0      TYPE_C      2.0  \n",
              "4      647.0         56.0      TYPE_C      2.0  "
            ],
            "text/html": [
              "\n",
              "  <div id=\"df-8bb4dbf1-9ab5-4e00-90f3-92c2aec4c5f2\">\n",
              "    <div class=\"colab-df-container\">\n",
              "      <div>\n",
              "<style scoped>\n",
              "    .dataframe tbody tr th:only-of-type {\n",
              "        vertical-align: middle;\n",
              "    }\n",
              "\n",
              "    .dataframe tbody tr th {\n",
              "        vertical-align: top;\n",
              "    }\n",
              "\n",
              "    .dataframe thead th {\n",
              "        text-align: right;\n",
              "    }\n",
              "</style>\n",
              "<table border=\"1\" class=\"dataframe\">\n",
              "  <thead>\n",
              "    <tr style=\"text-align: right;\">\n",
              "      <th></th>\n",
              "      <th>id</th>\n",
              "      <th>week</th>\n",
              "      <th>center_id</th>\n",
              "      <th>meal_id</th>\n",
              "      <th>checkout_price</th>\n",
              "      <th>base_price</th>\n",
              "      <th>emailer_for_promotion</th>\n",
              "      <th>homepage_featured</th>\n",
              "      <th>num_orders</th>\n",
              "      <th>category</th>\n",
              "      <th>cuisine</th>\n",
              "      <th>city_code</th>\n",
              "      <th>region_code</th>\n",
              "      <th>center_type</th>\n",
              "      <th>op_area</th>\n",
              "    </tr>\n",
              "  </thead>\n",
              "  <tbody>\n",
              "    <tr>\n",
              "      <th>0</th>\n",
              "      <td>1379560.0</td>\n",
              "      <td>1.0</td>\n",
              "      <td>55.0</td>\n",
              "      <td>1885.0</td>\n",
              "      <td>136.83</td>\n",
              "      <td>152.29</td>\n",
              "      <td>0.0</td>\n",
              "      <td>0.0</td>\n",
              "      <td>177.0</td>\n",
              "      <td>Beverages</td>\n",
              "      <td>Thai</td>\n",
              "      <td>647.0</td>\n",
              "      <td>56.0</td>\n",
              "      <td>TYPE_C</td>\n",
              "      <td>2.0</td>\n",
              "    </tr>\n",
              "    <tr>\n",
              "      <th>1</th>\n",
              "      <td>1018704.0</td>\n",
              "      <td>2.0</td>\n",
              "      <td>55.0</td>\n",
              "      <td>1885.0</td>\n",
              "      <td>135.83</td>\n",
              "      <td>152.29</td>\n",
              "      <td>0.0</td>\n",
              "      <td>0.0</td>\n",
              "      <td>323.0</td>\n",
              "      <td>Beverages</td>\n",
              "      <td>Thai</td>\n",
              "      <td>647.0</td>\n",
              "      <td>56.0</td>\n",
              "      <td>TYPE_C</td>\n",
              "      <td>2.0</td>\n",
              "    </tr>\n",
              "    <tr>\n",
              "      <th>2</th>\n",
              "      <td>1196273.0</td>\n",
              "      <td>3.0</td>\n",
              "      <td>55.0</td>\n",
              "      <td>1885.0</td>\n",
              "      <td>132.92</td>\n",
              "      <td>133.92</td>\n",
              "      <td>0.0</td>\n",
              "      <td>0.0</td>\n",
              "      <td>96.0</td>\n",
              "      <td>Beverages</td>\n",
              "      <td>Thai</td>\n",
              "      <td>647.0</td>\n",
              "      <td>56.0</td>\n",
              "      <td>TYPE_C</td>\n",
              "      <td>2.0</td>\n",
              "    </tr>\n",
              "    <tr>\n",
              "      <th>3</th>\n",
              "      <td>1116527.0</td>\n",
              "      <td>4.0</td>\n",
              "      <td>55.0</td>\n",
              "      <td>1885.0</td>\n",
              "      <td>135.86</td>\n",
              "      <td>134.86</td>\n",
              "      <td>0.0</td>\n",
              "      <td>0.0</td>\n",
              "      <td>163.0</td>\n",
              "      <td>Beverages</td>\n",
              "      <td>Thai</td>\n",
              "      <td>647.0</td>\n",
              "      <td>56.0</td>\n",
              "      <td>TYPE_C</td>\n",
              "      <td>2.0</td>\n",
              "    </tr>\n",
              "    <tr>\n",
              "      <th>4</th>\n",
              "      <td>1343872.0</td>\n",
              "      <td>5.0</td>\n",
              "      <td>55.0</td>\n",
              "      <td>1885.0</td>\n",
              "      <td>146.50</td>\n",
              "      <td>147.50</td>\n",
              "      <td>0.0</td>\n",
              "      <td>0.0</td>\n",
              "      <td>215.0</td>\n",
              "      <td>Beverages</td>\n",
              "      <td>Thai</td>\n",
              "      <td>647.0</td>\n",
              "      <td>56.0</td>\n",
              "      <td>TYPE_C</td>\n",
              "      <td>2.0</td>\n",
              "    </tr>\n",
              "  </tbody>\n",
              "</table>\n",
              "</div>\n",
              "      <button class=\"colab-df-convert\" onclick=\"convertToInteractive('df-8bb4dbf1-9ab5-4e00-90f3-92c2aec4c5f2')\"\n",
              "              title=\"Convert this dataframe to an interactive table.\"\n",
              "              style=\"display:none;\">\n",
              "        \n",
              "  <svg xmlns=\"http://www.w3.org/2000/svg\" height=\"24px\"viewBox=\"0 0 24 24\"\n",
              "       width=\"24px\">\n",
              "    <path d=\"M0 0h24v24H0V0z\" fill=\"none\"/>\n",
              "    <path d=\"M18.56 5.44l.94 2.06.94-2.06 2.06-.94-2.06-.94-.94-2.06-.94 2.06-2.06.94zm-11 1L8.5 8.5l.94-2.06 2.06-.94-2.06-.94L8.5 2.5l-.94 2.06-2.06.94zm10 10l.94 2.06.94-2.06 2.06-.94-2.06-.94-.94-2.06-.94 2.06-2.06.94z\"/><path d=\"M17.41 7.96l-1.37-1.37c-.4-.4-.92-.59-1.43-.59-.52 0-1.04.2-1.43.59L10.3 9.45l-7.72 7.72c-.78.78-.78 2.05 0 2.83L4 21.41c.39.39.9.59 1.41.59.51 0 1.02-.2 1.41-.59l7.78-7.78 2.81-2.81c.8-.78.8-2.07 0-2.86zM5.41 20L4 18.59l7.72-7.72 1.47 1.35L5.41 20z\"/>\n",
              "  </svg>\n",
              "      </button>\n",
              "      \n",
              "  <style>\n",
              "    .colab-df-container {\n",
              "      display:flex;\n",
              "      flex-wrap:wrap;\n",
              "      gap: 12px;\n",
              "    }\n",
              "\n",
              "    .colab-df-convert {\n",
              "      background-color: #E8F0FE;\n",
              "      border: none;\n",
              "      border-radius: 50%;\n",
              "      cursor: pointer;\n",
              "      display: none;\n",
              "      fill: #1967D2;\n",
              "      height: 32px;\n",
              "      padding: 0 0 0 0;\n",
              "      width: 32px;\n",
              "    }\n",
              "\n",
              "    .colab-df-convert:hover {\n",
              "      background-color: #E2EBFA;\n",
              "      box-shadow: 0px 1px 2px rgba(60, 64, 67, 0.3), 0px 1px 3px 1px rgba(60, 64, 67, 0.15);\n",
              "      fill: #174EA6;\n",
              "    }\n",
              "\n",
              "    [theme=dark] .colab-df-convert {\n",
              "      background-color: #3B4455;\n",
              "      fill: #D2E3FC;\n",
              "    }\n",
              "\n",
              "    [theme=dark] .colab-df-convert:hover {\n",
              "      background-color: #434B5C;\n",
              "      box-shadow: 0px 1px 3px 1px rgba(0, 0, 0, 0.15);\n",
              "      filter: drop-shadow(0px 1px 2px rgba(0, 0, 0, 0.3));\n",
              "      fill: #FFFFFF;\n",
              "    }\n",
              "  </style>\n",
              "\n",
              "      <script>\n",
              "        const buttonEl =\n",
              "          document.querySelector('#df-8bb4dbf1-9ab5-4e00-90f3-92c2aec4c5f2 button.colab-df-convert');\n",
              "        buttonEl.style.display =\n",
              "          google.colab.kernel.accessAllowed ? 'block' : 'none';\n",
              "\n",
              "        async function convertToInteractive(key) {\n",
              "          const element = document.querySelector('#df-8bb4dbf1-9ab5-4e00-90f3-92c2aec4c5f2');\n",
              "          const dataTable =\n",
              "            await google.colab.kernel.invokeFunction('convertToInteractive',\n",
              "                                                     [key], {});\n",
              "          if (!dataTable) return;\n",
              "\n",
              "          const docLinkHtml = 'Like what you see? Visit the ' +\n",
              "            '<a target=\"_blank\" href=https://colab.research.google.com/notebooks/data_table.ipynb>data table notebook</a>'\n",
              "            + ' to learn more about interactive tables.';\n",
              "          element.innerHTML = '';\n",
              "          dataTable['output_type'] = 'display_data';\n",
              "          await google.colab.output.renderOutput(dataTable, element);\n",
              "          const docLink = document.createElement('div');\n",
              "          docLink.innerHTML = docLinkHtml;\n",
              "          element.appendChild(docLink);\n",
              "        }\n",
              "      </script>\n",
              "    </div>\n",
              "  </div>\n",
              "  "
            ]
          },
          "metadata": {},
          "execution_count": 9
        }
      ]
    },
    {
      "cell_type": "markdown",
      "source": [
        "**Dropping Columns**"
      ],
      "metadata": {
        "id": "TCjMzSNm6n0T"
      }
    },
    {
      "cell_type": "code",
      "source": [
        "trainfinal = trainfinal.drop(['center_id', 'meal_id'], axis=1)\n",
        "trainfinal.head()"
      ],
      "metadata": {
        "colab": {
          "base_uri": "https://localhost:8080/",
          "height": 270
        },
        "id": "BoRJfwov6piP",
        "outputId": "05df5c5e-eb49-46b2-c550-949779b2e0c7"
      },
      "execution_count": null,
      "outputs": [
        {
          "output_type": "execute_result",
          "data": {
            "text/plain": [
              "          id  week  checkout_price  base_price  emailer_for_promotion  \\\n",
              "0  1379560.0   1.0          136.83      152.29                    0.0   \n",
              "1  1018704.0   2.0          135.83      152.29                    0.0   \n",
              "2  1196273.0   3.0          132.92      133.92                    0.0   \n",
              "3  1116527.0   4.0          135.86      134.86                    0.0   \n",
              "4  1343872.0   5.0          146.50      147.50                    0.0   \n",
              "\n",
              "   homepage_featured  num_orders   category cuisine  city_code  region_code  \\\n",
              "0                0.0       177.0  Beverages    Thai      647.0         56.0   \n",
              "1                0.0       323.0  Beverages    Thai      647.0         56.0   \n",
              "2                0.0        96.0  Beverages    Thai      647.0         56.0   \n",
              "3                0.0       163.0  Beverages    Thai      647.0         56.0   \n",
              "4                0.0       215.0  Beverages    Thai      647.0         56.0   \n",
              "\n",
              "  center_type  op_area  \n",
              "0      TYPE_C      2.0  \n",
              "1      TYPE_C      2.0  \n",
              "2      TYPE_C      2.0  \n",
              "3      TYPE_C      2.0  \n",
              "4      TYPE_C      2.0  "
            ],
            "text/html": [
              "\n",
              "  <div id=\"df-395ba002-78b5-4b11-beee-df4fccac01bc\">\n",
              "    <div class=\"colab-df-container\">\n",
              "      <div>\n",
              "<style scoped>\n",
              "    .dataframe tbody tr th:only-of-type {\n",
              "        vertical-align: middle;\n",
              "    }\n",
              "\n",
              "    .dataframe tbody tr th {\n",
              "        vertical-align: top;\n",
              "    }\n",
              "\n",
              "    .dataframe thead th {\n",
              "        text-align: right;\n",
              "    }\n",
              "</style>\n",
              "<table border=\"1\" class=\"dataframe\">\n",
              "  <thead>\n",
              "    <tr style=\"text-align: right;\">\n",
              "      <th></th>\n",
              "      <th>id</th>\n",
              "      <th>week</th>\n",
              "      <th>checkout_price</th>\n",
              "      <th>base_price</th>\n",
              "      <th>emailer_for_promotion</th>\n",
              "      <th>homepage_featured</th>\n",
              "      <th>num_orders</th>\n",
              "      <th>category</th>\n",
              "      <th>cuisine</th>\n",
              "      <th>city_code</th>\n",
              "      <th>region_code</th>\n",
              "      <th>center_type</th>\n",
              "      <th>op_area</th>\n",
              "    </tr>\n",
              "  </thead>\n",
              "  <tbody>\n",
              "    <tr>\n",
              "      <th>0</th>\n",
              "      <td>1379560.0</td>\n",
              "      <td>1.0</td>\n",
              "      <td>136.83</td>\n",
              "      <td>152.29</td>\n",
              "      <td>0.0</td>\n",
              "      <td>0.0</td>\n",
              "      <td>177.0</td>\n",
              "      <td>Beverages</td>\n",
              "      <td>Thai</td>\n",
              "      <td>647.0</td>\n",
              "      <td>56.0</td>\n",
              "      <td>TYPE_C</td>\n",
              "      <td>2.0</td>\n",
              "    </tr>\n",
              "    <tr>\n",
              "      <th>1</th>\n",
              "      <td>1018704.0</td>\n",
              "      <td>2.0</td>\n",
              "      <td>135.83</td>\n",
              "      <td>152.29</td>\n",
              "      <td>0.0</td>\n",
              "      <td>0.0</td>\n",
              "      <td>323.0</td>\n",
              "      <td>Beverages</td>\n",
              "      <td>Thai</td>\n",
              "      <td>647.0</td>\n",
              "      <td>56.0</td>\n",
              "      <td>TYPE_C</td>\n",
              "      <td>2.0</td>\n",
              "    </tr>\n",
              "    <tr>\n",
              "      <th>2</th>\n",
              "      <td>1196273.0</td>\n",
              "      <td>3.0</td>\n",
              "      <td>132.92</td>\n",
              "      <td>133.92</td>\n",
              "      <td>0.0</td>\n",
              "      <td>0.0</td>\n",
              "      <td>96.0</td>\n",
              "      <td>Beverages</td>\n",
              "      <td>Thai</td>\n",
              "      <td>647.0</td>\n",
              "      <td>56.0</td>\n",
              "      <td>TYPE_C</td>\n",
              "      <td>2.0</td>\n",
              "    </tr>\n",
              "    <tr>\n",
              "      <th>3</th>\n",
              "      <td>1116527.0</td>\n",
              "      <td>4.0</td>\n",
              "      <td>135.86</td>\n",
              "      <td>134.86</td>\n",
              "      <td>0.0</td>\n",
              "      <td>0.0</td>\n",
              "      <td>163.0</td>\n",
              "      <td>Beverages</td>\n",
              "      <td>Thai</td>\n",
              "      <td>647.0</td>\n",
              "      <td>56.0</td>\n",
              "      <td>TYPE_C</td>\n",
              "      <td>2.0</td>\n",
              "    </tr>\n",
              "    <tr>\n",
              "      <th>4</th>\n",
              "      <td>1343872.0</td>\n",
              "      <td>5.0</td>\n",
              "      <td>146.50</td>\n",
              "      <td>147.50</td>\n",
              "      <td>0.0</td>\n",
              "      <td>0.0</td>\n",
              "      <td>215.0</td>\n",
              "      <td>Beverages</td>\n",
              "      <td>Thai</td>\n",
              "      <td>647.0</td>\n",
              "      <td>56.0</td>\n",
              "      <td>TYPE_C</td>\n",
              "      <td>2.0</td>\n",
              "    </tr>\n",
              "  </tbody>\n",
              "</table>\n",
              "</div>\n",
              "      <button class=\"colab-df-convert\" onclick=\"convertToInteractive('df-395ba002-78b5-4b11-beee-df4fccac01bc')\"\n",
              "              title=\"Convert this dataframe to an interactive table.\"\n",
              "              style=\"display:none;\">\n",
              "        \n",
              "  <svg xmlns=\"http://www.w3.org/2000/svg\" height=\"24px\"viewBox=\"0 0 24 24\"\n",
              "       width=\"24px\">\n",
              "    <path d=\"M0 0h24v24H0V0z\" fill=\"none\"/>\n",
              "    <path d=\"M18.56 5.44l.94 2.06.94-2.06 2.06-.94-2.06-.94-.94-2.06-.94 2.06-2.06.94zm-11 1L8.5 8.5l.94-2.06 2.06-.94-2.06-.94L8.5 2.5l-.94 2.06-2.06.94zm10 10l.94 2.06.94-2.06 2.06-.94-2.06-.94-.94-2.06-.94 2.06-2.06.94z\"/><path d=\"M17.41 7.96l-1.37-1.37c-.4-.4-.92-.59-1.43-.59-.52 0-1.04.2-1.43.59L10.3 9.45l-7.72 7.72c-.78.78-.78 2.05 0 2.83L4 21.41c.39.39.9.59 1.41.59.51 0 1.02-.2 1.41-.59l7.78-7.78 2.81-2.81c.8-.78.8-2.07 0-2.86zM5.41 20L4 18.59l7.72-7.72 1.47 1.35L5.41 20z\"/>\n",
              "  </svg>\n",
              "      </button>\n",
              "      \n",
              "  <style>\n",
              "    .colab-df-container {\n",
              "      display:flex;\n",
              "      flex-wrap:wrap;\n",
              "      gap: 12px;\n",
              "    }\n",
              "\n",
              "    .colab-df-convert {\n",
              "      background-color: #E8F0FE;\n",
              "      border: none;\n",
              "      border-radius: 50%;\n",
              "      cursor: pointer;\n",
              "      display: none;\n",
              "      fill: #1967D2;\n",
              "      height: 32px;\n",
              "      padding: 0 0 0 0;\n",
              "      width: 32px;\n",
              "    }\n",
              "\n",
              "    .colab-df-convert:hover {\n",
              "      background-color: #E2EBFA;\n",
              "      box-shadow: 0px 1px 2px rgba(60, 64, 67, 0.3), 0px 1px 3px 1px rgba(60, 64, 67, 0.15);\n",
              "      fill: #174EA6;\n",
              "    }\n",
              "\n",
              "    [theme=dark] .colab-df-convert {\n",
              "      background-color: #3B4455;\n",
              "      fill: #D2E3FC;\n",
              "    }\n",
              "\n",
              "    [theme=dark] .colab-df-convert:hover {\n",
              "      background-color: #434B5C;\n",
              "      box-shadow: 0px 1px 3px 1px rgba(0, 0, 0, 0.15);\n",
              "      filter: drop-shadow(0px 1px 2px rgba(0, 0, 0, 0.3));\n",
              "      fill: #FFFFFF;\n",
              "    }\n",
              "  </style>\n",
              "\n",
              "      <script>\n",
              "        const buttonEl =\n",
              "          document.querySelector('#df-395ba002-78b5-4b11-beee-df4fccac01bc button.colab-df-convert');\n",
              "        buttonEl.style.display =\n",
              "          google.colab.kernel.accessAllowed ? 'block' : 'none';\n",
              "\n",
              "        async function convertToInteractive(key) {\n",
              "          const element = document.querySelector('#df-395ba002-78b5-4b11-beee-df4fccac01bc');\n",
              "          const dataTable =\n",
              "            await google.colab.kernel.invokeFunction('convertToInteractive',\n",
              "                                                     [key], {});\n",
              "          if (!dataTable) return;\n",
              "\n",
              "          const docLinkHtml = 'Like what you see? Visit the ' +\n",
              "            '<a target=\"_blank\" href=https://colab.research.google.com/notebooks/data_table.ipynb>data table notebook</a>'\n",
              "            + ' to learn more about interactive tables.';\n",
              "          element.innerHTML = '';\n",
              "          dataTable['output_type'] = 'display_data';\n",
              "          await google.colab.output.renderOutput(dataTable, element);\n",
              "          const docLink = document.createElement('div');\n",
              "          docLink.innerHTML = docLinkHtml;\n",
              "          element.appendChild(docLink);\n",
              "        }\n",
              "      </script>\n",
              "    </div>\n",
              "  </div>\n",
              "  "
            ]
          },
          "metadata": {},
          "execution_count": 10
        }
      ]
    },
    {
      "cell_type": "code",
      "source": [
        "cols = trainfinal.columns.tolist()\n",
        "print(cols)"
      ],
      "metadata": {
        "colab": {
          "base_uri": "https://localhost:8080/"
        },
        "id": "M2kXRYKk6tws",
        "outputId": "fe5fa061-ee28-4c73-c06a-322edb3d687a"
      },
      "execution_count": null,
      "outputs": [
        {
          "output_type": "stream",
          "name": "stdout",
          "text": [
            "['id', 'week', 'checkout_price', 'base_price', 'emailer_for_promotion', 'homepage_featured', 'num_orders', 'category', 'cuisine', 'city_code', 'region_code', 'center_type', 'op_area']\n"
          ]
        }
      ]
    },
    {
      "cell_type": "code",
      "source": [
        "cols=cols[:2]+cols[9:]+cols[7:9]+cols[2:7]\n",
        "print(cols)"
      ],
      "metadata": {
        "colab": {
          "base_uri": "https://localhost:8080/"
        },
        "id": "BTXYYPzo6xqg",
        "outputId": "384378b5-5f3d-430d-cc57-99a733c3f6b4"
      },
      "execution_count": null,
      "outputs": [
        {
          "output_type": "stream",
          "name": "stdout",
          "text": [
            "['id', 'week', 'city_code', 'region_code', 'center_type', 'op_area', 'category', 'cuisine', 'checkout_price', 'base_price', 'emailer_for_promotion', 'homepage_featured', 'num_orders']\n"
          ]
        }
      ]
    },
    {
      "cell_type": "code",
      "source": [
        "trainfinal = trainfinal[cols]\n",
        "trainfinal.dtypes"
      ],
      "metadata": {
        "colab": {
          "base_uri": "https://localhost:8080/"
        },
        "id": "wkKAWqIl61CB",
        "outputId": "a9ee0cf4-0110-4e5f-e8c8-ccee6eb608f0"
      },
      "execution_count": null,
      "outputs": [
        {
          "output_type": "execute_result",
          "data": {
            "text/plain": [
              "id                       float64\n",
              "week                     float64\n",
              "city_code                float64\n",
              "region_code              float64\n",
              "center_type               object\n",
              "op_area                  float64\n",
              "category                  object\n",
              "cuisine                   object\n",
              "checkout_price           float64\n",
              "base_price               float64\n",
              "emailer_for_promotion    float64\n",
              "homepage_featured        float64\n",
              "num_orders               float64\n",
              "dtype: object"
            ]
          },
          "metadata": {},
          "execution_count": 13
        }
      ]
    },
    {
      "cell_type": "markdown",
      "source": [
        "**Label Encoding**"
      ],
      "metadata": {
        "id": "qwGrsZl96nvH"
      }
    },
    {
      "cell_type": "code",
      "source": [
        "from sklearn.preprocessing import LabelEncoder\n",
        "\n",
        "lb1 = LabelEncoder()\n",
        "trainfinal['center_type'] = lb1.fit_transform(trainfinal['center_type'])\n",
        "\n",
        "lb1 = LabelEncoder()\n",
        "trainfinal['category'] = lb1.fit_transform(trainfinal['category'])\n",
        "\n",
        "lb1 = LabelEncoder()\n",
        "trainfinal['cuisine'] = lb1.fit_transform(trainfinal['cuisine'])"
      ],
      "metadata": {
        "id": "kElISlJZ66SF"
      },
      "execution_count": null,
      "outputs": []
    },
    {
      "cell_type": "code",
      "source": [
        "trainfinal.head()"
      ],
      "metadata": {
        "colab": {
          "base_uri": "https://localhost:8080/",
          "height": 270
        },
        "id": "0COOHbrY6-M1",
        "outputId": "53a666d6-fb8d-4c1b-8ef6-ac83c3238dae"
      },
      "execution_count": null,
      "outputs": [
        {
          "output_type": "execute_result",
          "data": {
            "text/plain": [
              "          id  week  city_code  region_code  center_type  op_area  category  \\\n",
              "0  1379560.0   1.0      647.0         56.0            2      2.0         0   \n",
              "1  1018704.0   2.0      647.0         56.0            2      2.0         0   \n",
              "2  1196273.0   3.0      647.0         56.0            2      2.0         0   \n",
              "3  1116527.0   4.0      647.0         56.0            2      2.0         0   \n",
              "4  1343872.0   5.0      647.0         56.0            2      2.0         0   \n",
              "\n",
              "   cuisine  checkout_price  base_price  emailer_for_promotion  \\\n",
              "0        3          136.83      152.29                    0.0   \n",
              "1        3          135.83      152.29                    0.0   \n",
              "2        3          132.92      133.92                    0.0   \n",
              "3        3          135.86      134.86                    0.0   \n",
              "4        3          146.50      147.50                    0.0   \n",
              "\n",
              "   homepage_featured  num_orders  \n",
              "0                0.0       177.0  \n",
              "1                0.0       323.0  \n",
              "2                0.0        96.0  \n",
              "3                0.0       163.0  \n",
              "4                0.0       215.0  "
            ],
            "text/html": [
              "\n",
              "  <div id=\"df-fc2e3950-a27c-404f-b039-4c0c523ae4f7\">\n",
              "    <div class=\"colab-df-container\">\n",
              "      <div>\n",
              "<style scoped>\n",
              "    .dataframe tbody tr th:only-of-type {\n",
              "        vertical-align: middle;\n",
              "    }\n",
              "\n",
              "    .dataframe tbody tr th {\n",
              "        vertical-align: top;\n",
              "    }\n",
              "\n",
              "    .dataframe thead th {\n",
              "        text-align: right;\n",
              "    }\n",
              "</style>\n",
              "<table border=\"1\" class=\"dataframe\">\n",
              "  <thead>\n",
              "    <tr style=\"text-align: right;\">\n",
              "      <th></th>\n",
              "      <th>id</th>\n",
              "      <th>week</th>\n",
              "      <th>city_code</th>\n",
              "      <th>region_code</th>\n",
              "      <th>center_type</th>\n",
              "      <th>op_area</th>\n",
              "      <th>category</th>\n",
              "      <th>cuisine</th>\n",
              "      <th>checkout_price</th>\n",
              "      <th>base_price</th>\n",
              "      <th>emailer_for_promotion</th>\n",
              "      <th>homepage_featured</th>\n",
              "      <th>num_orders</th>\n",
              "    </tr>\n",
              "  </thead>\n",
              "  <tbody>\n",
              "    <tr>\n",
              "      <th>0</th>\n",
              "      <td>1379560.0</td>\n",
              "      <td>1.0</td>\n",
              "      <td>647.0</td>\n",
              "      <td>56.0</td>\n",
              "      <td>2</td>\n",
              "      <td>2.0</td>\n",
              "      <td>0</td>\n",
              "      <td>3</td>\n",
              "      <td>136.83</td>\n",
              "      <td>152.29</td>\n",
              "      <td>0.0</td>\n",
              "      <td>0.0</td>\n",
              "      <td>177.0</td>\n",
              "    </tr>\n",
              "    <tr>\n",
              "      <th>1</th>\n",
              "      <td>1018704.0</td>\n",
              "      <td>2.0</td>\n",
              "      <td>647.0</td>\n",
              "      <td>56.0</td>\n",
              "      <td>2</td>\n",
              "      <td>2.0</td>\n",
              "      <td>0</td>\n",
              "      <td>3</td>\n",
              "      <td>135.83</td>\n",
              "      <td>152.29</td>\n",
              "      <td>0.0</td>\n",
              "      <td>0.0</td>\n",
              "      <td>323.0</td>\n",
              "    </tr>\n",
              "    <tr>\n",
              "      <th>2</th>\n",
              "      <td>1196273.0</td>\n",
              "      <td>3.0</td>\n",
              "      <td>647.0</td>\n",
              "      <td>56.0</td>\n",
              "      <td>2</td>\n",
              "      <td>2.0</td>\n",
              "      <td>0</td>\n",
              "      <td>3</td>\n",
              "      <td>132.92</td>\n",
              "      <td>133.92</td>\n",
              "      <td>0.0</td>\n",
              "      <td>0.0</td>\n",
              "      <td>96.0</td>\n",
              "    </tr>\n",
              "    <tr>\n",
              "      <th>3</th>\n",
              "      <td>1116527.0</td>\n",
              "      <td>4.0</td>\n",
              "      <td>647.0</td>\n",
              "      <td>56.0</td>\n",
              "      <td>2</td>\n",
              "      <td>2.0</td>\n",
              "      <td>0</td>\n",
              "      <td>3</td>\n",
              "      <td>135.86</td>\n",
              "      <td>134.86</td>\n",
              "      <td>0.0</td>\n",
              "      <td>0.0</td>\n",
              "      <td>163.0</td>\n",
              "    </tr>\n",
              "    <tr>\n",
              "      <th>4</th>\n",
              "      <td>1343872.0</td>\n",
              "      <td>5.0</td>\n",
              "      <td>647.0</td>\n",
              "      <td>56.0</td>\n",
              "      <td>2</td>\n",
              "      <td>2.0</td>\n",
              "      <td>0</td>\n",
              "      <td>3</td>\n",
              "      <td>146.50</td>\n",
              "      <td>147.50</td>\n",
              "      <td>0.0</td>\n",
              "      <td>0.0</td>\n",
              "      <td>215.0</td>\n",
              "    </tr>\n",
              "  </tbody>\n",
              "</table>\n",
              "</div>\n",
              "      <button class=\"colab-df-convert\" onclick=\"convertToInteractive('df-fc2e3950-a27c-404f-b039-4c0c523ae4f7')\"\n",
              "              title=\"Convert this dataframe to an interactive table.\"\n",
              "              style=\"display:none;\">\n",
              "        \n",
              "  <svg xmlns=\"http://www.w3.org/2000/svg\" height=\"24px\"viewBox=\"0 0 24 24\"\n",
              "       width=\"24px\">\n",
              "    <path d=\"M0 0h24v24H0V0z\" fill=\"none\"/>\n",
              "    <path d=\"M18.56 5.44l.94 2.06.94-2.06 2.06-.94-2.06-.94-.94-2.06-.94 2.06-2.06.94zm-11 1L8.5 8.5l.94-2.06 2.06-.94-2.06-.94L8.5 2.5l-.94 2.06-2.06.94zm10 10l.94 2.06.94-2.06 2.06-.94-2.06-.94-.94-2.06-.94 2.06-2.06.94z\"/><path d=\"M17.41 7.96l-1.37-1.37c-.4-.4-.92-.59-1.43-.59-.52 0-1.04.2-1.43.59L10.3 9.45l-7.72 7.72c-.78.78-.78 2.05 0 2.83L4 21.41c.39.39.9.59 1.41.59.51 0 1.02-.2 1.41-.59l7.78-7.78 2.81-2.81c.8-.78.8-2.07 0-2.86zM5.41 20L4 18.59l7.72-7.72 1.47 1.35L5.41 20z\"/>\n",
              "  </svg>\n",
              "      </button>\n",
              "      \n",
              "  <style>\n",
              "    .colab-df-container {\n",
              "      display:flex;\n",
              "      flex-wrap:wrap;\n",
              "      gap: 12px;\n",
              "    }\n",
              "\n",
              "    .colab-df-convert {\n",
              "      background-color: #E8F0FE;\n",
              "      border: none;\n",
              "      border-radius: 50%;\n",
              "      cursor: pointer;\n",
              "      display: none;\n",
              "      fill: #1967D2;\n",
              "      height: 32px;\n",
              "      padding: 0 0 0 0;\n",
              "      width: 32px;\n",
              "    }\n",
              "\n",
              "    .colab-df-convert:hover {\n",
              "      background-color: #E2EBFA;\n",
              "      box-shadow: 0px 1px 2px rgba(60, 64, 67, 0.3), 0px 1px 3px 1px rgba(60, 64, 67, 0.15);\n",
              "      fill: #174EA6;\n",
              "    }\n",
              "\n",
              "    [theme=dark] .colab-df-convert {\n",
              "      background-color: #3B4455;\n",
              "      fill: #D2E3FC;\n",
              "    }\n",
              "\n",
              "    [theme=dark] .colab-df-convert:hover {\n",
              "      background-color: #434B5C;\n",
              "      box-shadow: 0px 1px 3px 1px rgba(0, 0, 0, 0.15);\n",
              "      filter: drop-shadow(0px 1px 2px rgba(0, 0, 0, 0.3));\n",
              "      fill: #FFFFFF;\n",
              "    }\n",
              "  </style>\n",
              "\n",
              "      <script>\n",
              "        const buttonEl =\n",
              "          document.querySelector('#df-fc2e3950-a27c-404f-b039-4c0c523ae4f7 button.colab-df-convert');\n",
              "        buttonEl.style.display =\n",
              "          google.colab.kernel.accessAllowed ? 'block' : 'none';\n",
              "\n",
              "        async function convertToInteractive(key) {\n",
              "          const element = document.querySelector('#df-fc2e3950-a27c-404f-b039-4c0c523ae4f7');\n",
              "          const dataTable =\n",
              "            await google.colab.kernel.invokeFunction('convertToInteractive',\n",
              "                                                     [key], {});\n",
              "          if (!dataTable) return;\n",
              "\n",
              "          const docLinkHtml = 'Like what you see? Visit the ' +\n",
              "            '<a target=\"_blank\" href=https://colab.research.google.com/notebooks/data_table.ipynb>data table notebook</a>'\n",
              "            + ' to learn more about interactive tables.';\n",
              "          element.innerHTML = '';\n",
              "          dataTable['output_type'] = 'display_data';\n",
              "          await google.colab.output.renderOutput(dataTable, element);\n",
              "          const docLink = document.createElement('div');\n",
              "          docLink.innerHTML = docLinkHtml;\n",
              "          element.appendChild(docLink);\n",
              "        }\n",
              "      </script>\n",
              "    </div>\n",
              "  </div>\n",
              "  "
            ]
          },
          "metadata": {},
          "execution_count": 15
        }
      ]
    },
    {
      "cell_type": "code",
      "source": [
        "trainfinal.shape"
      ],
      "metadata": {
        "colab": {
          "base_uri": "https://localhost:8080/"
        },
        "id": "iDK6LSj17CJG",
        "outputId": "44327849-dae6-4530-baeb-35cdb3b37b8e"
      },
      "execution_count": null,
      "outputs": [
        {
          "output_type": "execute_result",
          "data": {
            "text/plain": [
              "(52117, 13)"
            ]
          },
          "metadata": {},
          "execution_count": 16
        }
      ]
    },
    {
      "cell_type": "markdown",
      "source": [
        "**Data Visualization**"
      ],
      "metadata": {
        "id": "ApjCwVN27Fke"
      }
    },
    {
      "cell_type": "code",
      "source": [
        "plt.style.use('fivethirtyeight')\n",
        "plt.figure(figsize=(12,7))\n",
        "sns.distplot(trainfinal.num_orders, bins=25)\n",
        "plt.xlabel(\"num_orders\")\n",
        "plt.ylabel(\"Number of Buyers\")\n",
        "plt.title(\"num_orders Distribution\")"
      ],
      "metadata": {
        "colab": {
          "base_uri": "https://localhost:8080/",
          "height": 572
        },
        "id": "4qxid8-k768C",
        "outputId": "5d1f7e2a-6717-4a40-a047-cc1ac55a4560"
      },
      "execution_count": null,
      "outputs": [
        {
          "output_type": "stream",
          "name": "stderr",
          "text": [
            "/usr/local/lib/python3.7/dist-packages/seaborn/distributions.py:2619: FutureWarning: `distplot` is a deprecated function and will be removed in a future version. Please adapt your code to use either `displot` (a figure-level function with similar flexibility) or `histplot` (an axes-level function for histograms).\n",
            "  warnings.warn(msg, FutureWarning)\n"
          ]
        },
        {
          "output_type": "execute_result",
          "data": {
            "text/plain": [
              "Text(0.5, 1.0, 'num_orders Distribution')"
            ]
          },
          "metadata": {},
          "execution_count": 17
        },
        {
          "output_type": "display_data",
          "data": {
            "text/plain": [
              "<Figure size 864x504 with 1 Axes>"
            ],
            "image/png": "[encoded data removed]"
          },
          "metadata": {}
        }
      ]
    },
    {
      "cell_type": "code",
      "source": [
        "trainfinal2 = trainfinal.drop(['id'],axis=1)\n",
        "correlation = trainfinal2.corr(method='pearson')\n",
        "columns = correlation.nlargest(8, 'num_orders').index\n",
        "columns"
      ],
      "metadata": {
        "colab": {
          "base_uri": "https://localhost:8080/"
        },
        "id": "jv3ORonh8EKh",
        "outputId": "ff5a93ca-9563-4c50-c34a-dcb31a83ab86"
      },
      "execution_count": null,
      "outputs": [
        {
          "output_type": "execute_result",
          "data": {
            "text/plain": [
              "Index(['num_orders', 'homepage_featured', 'emailer_for_promotion', 'op_area',\n",
              "       'cuisine', 'city_code', 'region_code', 'category'],\n",
              "      dtype='object')"
            ]
          },
          "metadata": {},
          "execution_count": 18
        }
      ]
    },
    {
      "cell_type": "code",
      "source": [
        "correlation_map = np.corrcoef(trainfinal2[columns].values.T)\n",
        "sns.set(font_scale=1.0) \n",
        "heatmap = sns.heatmap(correlation_map, cbar=True, annot=True, square=True, fmt='.2f', yticklabels=columns.values, xticklabels=columns.values)\n",
        "\n",
        "plt.show()"
      ],
      "metadata": {
        "colab": {
          "base_uri": "https://localhost:8080/",
          "height": 403
        },
        "id": "yheylqqK8JFH",
        "outputId": "8df2ee53-219a-4578-e883-c490b61543ee"
      },
      "execution_count": null,
      "outputs": [
        {
          "output_type": "display_data",
          "data": {
            "text/plain": [
              "<Figure size 432x288 with 2 Axes>"
            ],
            "image/png": "[encoded data removed]"
          },
          "metadata": {}
        }
      ]
    },
    {
      "cell_type": "markdown",
      "source": [
        "**Splitting the Dataset into Dependent and Independent variable**"
      ],
      "metadata": {
        "id": "0Bw2uhcj8Pmj"
      }
    },
    {
      "cell_type": "code",
      "source": [
        "features =  columns.drop(['num_orders'])\n",
        "trainfinal3 = trainfinal[features]\n",
        "X = trainfinal3.values\n",
        "y = trainfinal['num_orders'].values"
      ],
      "metadata": {
        "id": "6Tuoot1f8Q-1"
      },
      "execution_count": null,
      "outputs": []
    },
    {
      "cell_type": "code",
      "source": [
        "trainfinal3.head()"
      ],
      "metadata": {
        "colab": {
          "base_uri": "https://localhost:8080/",
          "height": 206
        },
        "id": "HnxtG_3Y8Vvo",
        "outputId": "74d33dcb-2bf1-4543-95db-c12b39dcbcf5"
      },
      "execution_count": null,
      "outputs": [
        {
          "output_type": "execute_result",
          "data": {
            "text/plain": [
              "   homepage_featured  emailer_for_promotion  op_area  cuisine  city_code  \\\n",
              "0                0.0                    0.0      2.0        3      647.0   \n",
              "1                0.0                    0.0      2.0        3      647.0   \n",
              "2                0.0                    0.0      2.0        3      647.0   \n",
              "3                0.0                    0.0      2.0        3      647.0   \n",
              "4                0.0                    0.0      2.0        3      647.0   \n",
              "\n",
              "   region_code  category  \n",
              "0         56.0         0  \n",
              "1         56.0         0  \n",
              "2         56.0         0  \n",
              "3         56.0         0  \n",
              "4         56.0         0  "
            ],
            "text/html": [
              "\n",
              "  <div id=\"df-636f8994-b515-4c47-b202-a0106d4ec8fe\">\n",
              "    <div class=\"colab-df-container\">\n",
              "      <div>\n",
              "<style scoped>\n",
              "    .dataframe tbody tr th:only-of-type {\n",
              "        vertical-align: middle;\n",
              "    }\n",
              "\n",
              "    .dataframe tbody tr th {\n",
              "        vertical-align: top;\n",
              "    }\n",
              "\n",
              "    .dataframe thead th {\n",
              "        text-align: right;\n",
              "    }\n",
              "</style>\n",
              "<table border=\"1\" class=\"dataframe\">\n",
              "  <thead>\n",
              "    <tr style=\"text-align: right;\">\n",
              "      <th></th>\n",
              "      <th>homepage_featured</th>\n",
              "      <th>emailer_for_promotion</th>\n",
              "      <th>op_area</th>\n",
              "      <th>cuisine</th>\n",
              "      <th>city_code</th>\n",
              "      <th>region_code</th>\n",
              "      <th>category</th>\n",
              "    </tr>\n",
              "  </thead>\n",
              "  <tbody>\n",
              "    <tr>\n",
              "      <th>0</th>\n",
              "      <td>0.0</td>\n",
              "      <td>0.0</td>\n",
              "      <td>2.0</td>\n",
              "      <td>3</td>\n",
              "      <td>647.0</td>\n",
              "      <td>56.0</td>\n",
              "      <td>0</td>\n",
              "    </tr>\n",
              "    <tr>\n",
              "      <th>1</th>\n",
              "      <td>0.0</td>\n",
              "      <td>0.0</td>\n",
              "      <td>2.0</td>\n",
              "      <td>3</td>\n",
              "      <td>647.0</td>\n",
              "      <td>56.0</td>\n",
              "      <td>0</td>\n",
              "    </tr>\n",
              "    <tr>\n",
              "      <th>2</th>\n",
              "      <td>0.0</td>\n",
              "      <td>0.0</td>\n",
              "      <td>2.0</td>\n",
              "      <td>3</td>\n",
              "      <td>647.0</td>\n",
              "      <td>56.0</td>\n",
              "      <td>0</td>\n",
              "    </tr>\n",
              "    <tr>\n",
              "      <th>3</th>\n",
              "      <td>0.0</td>\n",
              "      <td>0.0</td>\n",
              "      <td>2.0</td>\n",
              "      <td>3</td>\n",
              "      <td>647.0</td>\n",
              "      <td>56.0</td>\n",
              "      <td>0</td>\n",
              "    </tr>\n",
              "    <tr>\n",
              "      <th>4</th>\n",
              "      <td>0.0</td>\n",
              "      <td>0.0</td>\n",
              "      <td>2.0</td>\n",
              "      <td>3</td>\n",
              "      <td>647.0</td>\n",
              "      <td>56.0</td>\n",
              "      <td>0</td>\n",
              "    </tr>\n",
              "  </tbody>\n",
              "</table>\n",
              "</div>\n",
              "      <button class=\"colab-df-convert\" onclick=\"convertToInteractive('df-636f8994-b515-4c47-b202-a0106d4ec8fe')\"\n",
              "              title=\"Convert this dataframe to an interactive table.\"\n",
              "              style=\"display:none;\">\n",
              "        \n",
              "  <svg xmlns=\"http://www.w3.org/2000/svg\" height=\"24px\"viewBox=\"0 0 24 24\"\n",
              "       width=\"24px\">\n",
              "    <path d=\"M0 0h24v24H0V0z\" fill=\"none\"/>\n",
              "    <path d=\"M18.56 5.44l.94 2.06.94-2.06 2.06-.94-2.06-.94-.94-2.06-.94 2.06-2.06.94zm-11 1L8.5 8.5l.94-2.06 2.06-.94-2.06-.94L8.5 2.5l-.94 2.06-2.06.94zm10 10l.94 2.06.94-2.06 2.06-.94-2.06-.94-.94-2.06-.94 2.06-2.06.94z\"/><path d=\"M17.41 7.96l-1.37-1.37c-.4-.4-.92-.59-1.43-.59-.52 0-1.04.2-1.43.59L10.3 9.45l-7.72 7.72c-.78.78-.78 2.05 0 2.83L4 21.41c.39.39.9.59 1.41.59.51 0 1.02-.2 1.41-.59l7.78-7.78 2.81-2.81c.8-.78.8-2.07 0-2.86zM5.41 20L4 18.59l7.72-7.72 1.47 1.35L5.41 20z\"/>\n",
              "  </svg>\n",
              "      </button>\n",
              "      \n",
              "  <style>\n",
              "    .colab-df-container {\n",
              "      display:flex;\n",
              "      flex-wrap:wrap;\n",
              "      gap: 12px;\n",
              "    }\n",
              "\n",
              "    .colab-df-convert {\n",
              "      background-color: #E8F0FE;\n",
              "      border: none;\n",
              "      border-radius: 50%;\n",
              "      cursor: pointer;\n",
              "      display: none;\n",
              "      fill: #1967D2;\n",
              "      height: 32px;\n",
              "      padding: 0 0 0 0;\n",
              "      width: 32px;\n",
              "    }\n",
              "\n",
              "    .colab-df-convert:hover {\n",
              "      background-color: #E2EBFA;\n",
              "      box-shadow: 0px 1px 2px rgba(60, 64, 67, 0.3), 0px 1px 3px 1px rgba(60, 64, 67, 0.15);\n",
              "      fill: #174EA6;\n",
              "    }\n",
              "\n",
              "    [theme=dark] .colab-df-convert {\n",
              "      background-color: #3B4455;\n",
              "      fill: #D2E3FC;\n",
              "    }\n",
              "\n",
              "    [theme=dark] .colab-df-convert:hover {\n",
              "      background-color: #434B5C;\n",
              "      box-shadow: 0px 1px 3px 1px rgba(0, 0, 0, 0.15);\n",
              "      filter: drop-shadow(0px 1px 2px rgba(0, 0, 0, 0.3));\n",
              "      fill: #FFFFFF;\n",
              "    }\n",
              "  </style>\n",
              "\n",
              "      <script>\n",
              "        const buttonEl =\n",
              "          document.querySelector('#df-636f8994-b515-4c47-b202-a0106d4ec8fe button.colab-df-convert');\n",
              "        buttonEl.style.display =\n",
              "          google.colab.kernel.accessAllowed ? 'block' : 'none';\n",
              "\n",
              "        async function convertToInteractive(key) {\n",
              "          const element = document.querySelector('#df-636f8994-b515-4c47-b202-a0106d4ec8fe');\n",
              "          const dataTable =\n",
              "            await google.colab.kernel.invokeFunction('convertToInteractive',\n",
              "                                                     [key], {});\n",
              "          if (!dataTable) return;\n",
              "\n",
              "          const docLinkHtml = 'Like what you see? Visit the ' +\n",
              "            '<a target=\"_blank\" href=https://colab.research.google.com/notebooks/data_table.ipynb>data table notebook</a>'\n",
              "            + ' to learn more about interactive tables.';\n",
              "          element.innerHTML = '';\n",
              "          dataTable['output_type'] = 'display_data';\n",
              "          await google.colab.output.renderOutput(dataTable, element);\n",
              "          const docLink = document.createElement('div');\n",
              "          docLink.innerHTML = docLinkHtml;\n",
              "          element.appendChild(docLink);\n",
              "        }\n",
              "      </script>\n",
              "    </div>\n",
              "  </div>\n",
              "  "
            ]
          },
          "metadata": {},
          "execution_count": 21
        }
      ]
    },
    {
      "cell_type": "markdown",
      "source": [
        "**Split the dataset into train set and test set**"
      ],
      "metadata": {
        "id": "Ls85uJJn8ZNh"
      }
    },
    {
      "cell_type": "code",
      "source": [
        "from sklearn.model_selection import train_test_split\n",
        "X_train, X_val, y_train, y_val = train_test_split(X, y, test_size=0.25)"
      ],
      "metadata": {
        "id": "8KKWK8GK8ar6"
      },
      "execution_count": null,
      "outputs": []
    }
  ]
}